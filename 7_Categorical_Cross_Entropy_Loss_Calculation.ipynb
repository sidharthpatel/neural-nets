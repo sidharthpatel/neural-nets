{
 "cells": [
  {
   "cell_type": "code",
   "execution_count": 8,
   "id": "c14fffcb-9b0d-4fb9-843c-1a086f7c39d3",
   "metadata": {
    "tags": []
   },
   "outputs": [
    {
     "name": "stdout",
     "output_type": "stream",
     "text": [
      "0.35667494393873245\n",
      "0.35667494393873245\n",
      "0.6931471805599453\n"
     ]
    }
   ],
   "source": [
    "''' How wrong is the model?\n",
    "You may think let's optimize the model for accuracy\n",
    "Accuracy means you'd have to feed in a True/False \n",
    "Our neural network does not output a classification. Rather, it outputs a probability '''\n",
    "\n",
    "import math\n",
    "\n",
    "softmax_output = [0.7, 0.1, 0.2]\n",
    "target_output = [1, 0, 0]\n",
    "target_class = 0\n",
    "\n",
    "loss = -(math.log(softmax_output[0]) * target_output[0] +\n",
    "         math.log(softmax_output[0]) * target_output[1] +\n",
    "         math.log(softmax_output[0]) * target_output[2])\n",
    "\n",
    "print(loss)\n",
    "\n",
    "print(-math.log(0.7))\n",
    "print(-math.log(0.5))"
   ]
  },
  {
   "cell_type": "code",
   "execution_count": null,
   "id": "f9769fd7-0745-4869-942e-e5c3477438b3",
   "metadata": {},
   "outputs": [],
   "source": []
  }
 ],
 "metadata": {
  "kernelspec": {
   "display_name": "Python 3 (ipykernel)",
   "language": "python",
   "name": "python3"
  },
  "language_info": {
   "codemirror_mode": {
    "name": "ipython",
    "version": 3
   },
   "file_extension": ".py",
   "mimetype": "text/x-python",
   "name": "python",
   "nbconvert_exporter": "python",
   "pygments_lexer": "ipython3",
   "version": "3.11.5"
  }
 },
 "nbformat": 4,
 "nbformat_minor": 5
}
