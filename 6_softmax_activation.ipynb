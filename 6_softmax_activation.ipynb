{
 "cells": [
  {
   "cell_type": "code",
   "execution_count": 10,
   "id": "b5361d70-8834-46f0-b77b-b1b792a3e308",
   "metadata": {},
   "outputs": [
    {
     "name": "stdout",
     "output_type": "stream",
     "text": [
      "[121.51041751873483, 3.353484652549023, 10.859062664920513]\n",
      "[0.8952826639572619, 0.024708306782099374, 0.0800090292606387]\n",
      "Sum of Norm Values:  0.9999999999999999\n"
     ]
    }
   ],
   "source": [
    "import math\n",
    "layer_outputs = [4.8, 1.21, 2.385]\n",
    "\n",
    "#E = 2.71828182846\n",
    "E = math.e\n",
    "\n",
    "exp_values = []\n",
    "\n",
    "# Before you jump into softmax activation, here is a resource to help you understand the activation function better\n",
    "# https://towardsdatascience.com/softmax-activation-function-how-it-actually-works-d292d335bd78\n",
    "\n",
    "for output in layer_outputs:\n",
    "    exp_values.append(E**output)\n",
    "    \n",
    "print(exp_values)\n",
    "\n",
    "# Normalizationz\n",
    "norm_base = sum(exp_values)\n",
    "norm_values = []\n",
    "\n",
    "for value in exp_values:\n",
    "    norm_values.append(value / norm_base)\n",
    "\n",
    "print(norm_values)\n",
    "print(\"Sum of Norm Values: \", sum(norm_values))"
   ]
  },
  {
   "cell_type": "code",
   "execution_count": 11,
   "id": "cb8ec434-0d7d-4a44-97d0-d055ec61b411",
   "metadata": {
    "tags": []
   },
   "outputs": [
    {
     "name": "stdout",
     "output_type": "stream",
     "text": [
      "Exponential Values:  [121.51041752   3.35348465  10.85906266]\n",
      "Normalization Values:  [0.89528266 0.02470831 0.08000903]\n",
      "Sum of Normalization:  0.9999999999999999\n"
     ]
    }
   ],
   "source": [
    "import numpy as np\n",
    "import math\n",
    "\n",
    "layer_outputs = [4.8, 1.21, 2.385]\n",
    "\n",
    "E = math.e\n",
    "\n",
    "exp_values = np.exp(layer_outputs)\n",
    "\n",
    "norm_values = exp_values / np.sum(exp_values)\n",
    "\n",
    "print(\"Exponential Values: \", exp_values)\n",
    "print(\"Normalization Values: \", norm_values)\n",
    "print(\"Sum of Normalization: \", np.sum(norm_values))"
   ]
  },
  {
   "cell_type": "code",
   "execution_count": 23,
   "id": "94688591-3051-48a8-a8c3-c2d27d17a7b7",
   "metadata": {
    "tags": []
   },
   "outputs": [
    {
     "name": "stdout",
     "output_type": "stream",
     "text": [
      "[[1.21510418e+02 3.35348465e+00 1.08590627e+01]\n",
      " [7.33197354e+03 1.63654137e-01 1.22140276e+00]\n",
      " [4.09595540e+00 2.86051020e+00 1.02634095e+00]]\n",
      "[[8.395]\n",
      " [7.29 ]\n",
      " [2.487]]\n",
      "Normalized Values:  [[8.95282664e-01 2.47083068e-02 8.00090293e-02]\n",
      " [9.99811129e-01 2.23163963e-05 1.66554348e-04]\n",
      " [5.13097164e-01 3.58333899e-01 1.28568936e-01]]\n"
     ]
    }
   ],
   "source": [
    "import numpy as np\n",
    "import nnfs\n",
    "\n",
    "nnfs.init()\n",
    "\n",
    "layer_outputs = [[4.8, 1.21, 2.385],\n",
    "                 [8.9, -1.81, 0.2],\n",
    "                 [1.41, 1.051, 0.026]]\n",
    "\n",
    "exp_values = np.exp(layer_outputs)\n",
    "\n",
    "print(exp_values)\n",
    "\n",
    "print(np.sum(layer_outputs, axis=1, keepdims=True))\n",
    "\n",
    "norm_values = exp_values / np.sum(exp_values, axis=1, keepdims=True)\n",
    "\n",
    "print(\"Normalized Values: \", norm_values)"
   ]
  },
  {
   "cell_type": "code",
   "execution_count": 35,
   "id": "bcd3af7e-75db-4546-aac8-3563bb724fd7",
   "metadata": {
    "tags": []
   },
   "outputs": [
    {
     "name": "stdout",
     "output_type": "stream",
     "text": [
      "[[0.33333334 0.33333334 0.33333334]\n",
      " [0.33333334 0.33333334 0.33333334]\n",
      " [0.33333334 0.33333334 0.33333337]\n",
      " [0.33333328 0.33333328 0.33333343]\n",
      " [0.33333325 0.33333325 0.3333335 ]]\n"
     ]
    }
   ],
   "source": [
    "import numpy as np\n",
    "import nnfs\n",
    "from nnfs.datasets import spiral_data\n",
    "\n",
    "nnfs.init()\n",
    "\n",
    "class Layer_Dense:\n",
    "    def __init__(self, n_inputs, n_neurons):\n",
    "        self.weights = 0.10 * np.random.randn(n_inputs, n_neurons)\n",
    "        self.biases = np.zeros((1, n_neurons))\n",
    "    def forward(self, inputs):\n",
    "        self.output = np.dot(inputs, self.weights) + self.biases\n",
    "        \n",
    "class Activation_ReLU:\n",
    "    def forward(self, inputs):\n",
    "        self.output = np.maximum(0, inputs)\n",
    "        \n",
    "class Activation_Softmax:\n",
    "    def forward(self, inputs):\n",
    "        exp_values = np.exp(inputs * np.max(inputs, axis=1, keepdims=True))\n",
    "        probabilities = exp_values / np.sum(exp_values, axis=1, keepdims=True)\n",
    "        self.output = probabilities\n",
    "        \n",
    "X, y = spiral_data(samples=100, classes=3)\n",
    "dense1 = Layer_Dense(2,3)\n",
    "activation1 = Activation_ReLU()\n",
    "\n",
    "dense2 = Layer_Dense(3,3)\n",
    "activation2 = Activation_Softmax()\n",
    "\n",
    "dense1.forward(X)\n",
    "activation1.forward(dense1.output)\n",
    "\n",
    "dense2.forward(activation1.output)\n",
    "activation2.forward(dense2.output)\n",
    "\n",
    "print(activation2.output[:5])"
   ]
  },
  {
   "cell_type": "code",
   "execution_count": null,
   "id": "87de1cf0-8e99-45ea-911f-03d99cc8cf45",
   "metadata": {},
   "outputs": [],
   "source": []
  }
 ],
 "metadata": {
  "kernelspec": {
   "display_name": "Python 3 (ipykernel)",
   "language": "python",
   "name": "python3"
  },
  "language_info": {
   "codemirror_mode": {
    "name": "ipython",
    "version": 3
   },
   "file_extension": ".py",
   "mimetype": "text/x-python",
   "name": "python",
   "nbconvert_exporter": "python",
   "pygments_lexer": "ipython3",
   "version": "3.11.5"
  }
 },
 "nbformat": 4,
 "nbformat_minor": 5
}
